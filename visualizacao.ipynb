{
 "cells": [
  {
   "cell_type": "code",
   "execution_count": null,
   "id": "33784702",
   "metadata": {},
   "outputs": [],
   "source": []
  },
  {
   "cell_type": "code",
   "execution_count": null,
   "id": "c650e80b",
   "metadata": {},
   "outputs": [
    {
     "name": "stdout",
     "output_type": "stream",
     "text": [
      "        latitude  longitude        data   hora  tipo_crime   bairro      rua  \\\n",
      "0     -15.792757 -47.881983  2025-06-01  06:04       roubo  Asa Sul  SQS 105   \n",
      "1     -15.793765 -47.879947  2025-02-19  10:31       furto  Asa Sul  SQS 108   \n",
      "2     -15.791830 -47.882003  2023-12-12  09:14       furto  Asa Sul  SQS 106   \n",
      "3     -15.789767 -47.883296  2020-08-28  12:39       roubo  Asa Sul  SQS 107   \n",
      "4     -15.790890 -47.883278  2022-01-17  15:24       furto  Asa Sul  SQS 106   \n",
      "...          ...        ...         ...    ...         ...      ...      ...   \n",
      "14995 -15.793705 -47.882255  2021-04-09  08:18  vandalismo  Asa Sul  SQS 105   \n",
      "14996 -15.790514 -47.883440  2024-09-10  19:13       roubo  Asa Sul  SQS 106   \n",
      "14997 -15.793094 -47.880586  2021-01-17  19:35       roubo  Asa Sul  SQS 105   \n",
      "14998 -15.794210 -47.884784  2020-11-05  08:42       furto  Asa Sul  SQS 107   \n",
      "14999 -15.795410 -47.880517  2020-06-28  21:43       roubo  Asa Sul   W3 Sul   \n",
      "\n",
      "           tipo_dia   ano                      nome             cpf  idade  \\\n",
      "0        dia_normal  2025      Emanuelly Nascimento  716.235.048-80   21.0   \n",
      "1        dia_normal  2025              Esther Sales  158.602.793-02   15.0   \n",
      "2        dia_normal  2023        João Pedro da Rosa  216.409.738-69   22.0   \n",
      "3      final_semana  2020          Dr. Henry Cirino  052.169.483-33    NaN   \n",
      "4        dia_normal  2022    Gael Henrique Siqueira  438.209.617-04   16.0   \n",
      "...             ...   ...                       ...             ...    ...   \n",
      "14995  final_semana  2021               Alice Pires  927.534.810-32   19.0   \n",
      "14996    dia_normal  2024    Dr. Luiz Felipe Novaes  314.820.967-22   16.0   \n",
      "14997    dia_normal  2021  Maria Sophia Casa Grande  735.290.416-61   90.0   \n",
      "14998    dia_normal  2020             Stella Fogaça  350.179.268-95   16.0   \n",
      "14999    dia_normal  2020      José Miguel Carvalho  973.268.450-00   17.0   \n",
      "\n",
      "                                email             telefone  \\\n",
      "0            castroraquel@example.org                  NaN   \n",
      "1                 vda-luz@example.com                  NaN   \n",
      "2              saragarcia@example.net      (081) 7401-5813   \n",
      "3                  kramos@example.com  +55 (041) 0038-0903   \n",
      "4             camaralaura@example.net                  NaN   \n",
      "...                               ...                  ...   \n",
      "14995        lorenanovaes@example.com      (071) 6877 4614   \n",
      "14996  araujomaria-sophia@example.net        0800 439 8178   \n",
      "14997              gporto@example.org     +55 81 6924-1823   \n",
      "14998                             NaN                  NaN   \n",
      "14999   monteiroalexandre@example.net  +55 (021) 2483 8472   \n",
      "\n",
      "                                  endereco  \n",
      "0                SQS 105 Lote 42, Sala 106  \n",
      "1                  SQS 108 Bloco A, Ap 700  \n",
      "2      SQS 106 Edifício Bravo, Unidade 163  \n",
      "3                SQS 107 Lote 11, Sala 220  \n",
      "4                  SQS 106 Bloco B, Ap 577  \n",
      "...                                    ...  \n",
      "14995  SQS 105 Edifício Delta, Unidade 153  \n",
      "14996  SQS 106 Edifício Alpha, Unidade 213  \n",
      "14997            SQS 105 Lote 32, Sala 118  \n",
      "14998              SQS 107 Bloco D, Ap 652  \n",
      "14999   W3 Sul Edifício Delta, Unidade 158  \n",
      "\n",
      "[15000 rows x 15 columns]\n"
     ]
    }
   ],
   "source": [
    "import pandas as pd\n",
    "\n",
    "#%% \n",
    "df = pd.read_csv('crimes_asa_sul_2020_2025_com_pessoas_endereco.csv')\n",
    "df.head(100)"
   ]
  }
 ],
 "metadata": {
  "kernelspec": {
   "display_name": "Python 3",
   "language": "python",
   "name": "python3"
  },
  "language_info": {
   "codemirror_mode": {
    "name": "ipython",
    "version": 3
   },
   "file_extension": ".py",
   "mimetype": "text/x-python",
   "name": "python",
   "nbconvert_exporter": "python",
   "pygments_lexer": "ipython3",
   "version": "3.13.3"
  }
 },
 "nbformat": 4,
 "nbformat_minor": 5
}
